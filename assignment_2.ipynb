{
  "cells": [
    {
      "cell_type": "markdown",
      "metadata": {
        "id": "view-in-github",
        "colab_type": "text"
      },
      "source": [
        "<a href=\"https://colab.research.google.com/github/madxox/SE_22/blob/master/assignment_2.ipynb\" target=\"_parent\"><img src=\"https://colab.research.google.com/assets/colab-badge.svg\" alt=\"Open In Colab\"/></a>"
      ]
    },
    {
      "cell_type": "markdown",
      "id": "5fc08409-1779-4f9c-a663-0ba1263f7668",
      "metadata": {
        "id": "5fc08409-1779-4f9c-a663-0ba1263f7668"
      },
      "source": [
        "# MNIST Classification"
      ]
    },
    {
      "cell_type": "markdown",
      "id": "b8de48d9-533c-46c7-a288-ee57fcee1445",
      "metadata": {
        "id": "b8de48d9-533c-46c7-a288-ee57fcee1445"
      },
      "source": [
        "In this assignment you will learn how to build a simple neural network which will learn how to distinguish numbers between 0 and 9.\n",
        "You will get to know the first hyperparameters which effect learning the neural network like the learning rate or the size of the neural network."
      ]
    },
    {
      "cell_type": "markdown",
      "id": "5f2e9c85-6e4b-4cec-bbda-e13c3b7cb06d",
      "metadata": {
        "id": "5f2e9c85-6e4b-4cec-bbda-e13c3b7cb06d"
      },
      "source": [
        "Let's begin with downloading the MNIST dataset: The most common datasets are available through the torchvision library."
      ]
    },
    {
      "cell_type": "code",
      "execution_count": 1,
      "id": "ef423f8f-33a4-45f7-abd1-6c1cece874e5",
      "metadata": {
        "id": "ef423f8f-33a4-45f7-abd1-6c1cece874e5",
        "colab": {
          "base_uri": "https://localhost:8080/"
        },
        "outputId": "2a3ce97c-c32b-4fbf-ed51-834f3f534514"
      },
      "outputs": [
        {
          "output_type": "stream",
          "name": "stderr",
          "text": [
            "100%|██████████| 9.91M/9.91M [00:00<00:00, 40.6MB/s]\n",
            "100%|██████████| 28.9k/28.9k [00:00<00:00, 1.19MB/s]\n",
            "100%|██████████| 1.65M/1.65M [00:00<00:00, 10.4MB/s]\n",
            "100%|██████████| 4.54k/4.54k [00:00<00:00, 5.31MB/s]\n"
          ]
        }
      ],
      "source": [
        "import torch\n",
        "import numpy as np\n",
        "import torch.nn as nn\n",
        "import matplotlib.pyplot as plt\n",
        "from torch.utils.data import Dataset, DataLoader\n",
        "import matplotlib.image as mpimg\n",
        "import os\n",
        "from tqdm import tqdm\n",
        "from functools import partial\n",
        "from sklearn.metrics import confusion_matrix, ConfusionMatrixDisplay\n",
        "from torchvision.datasets import MNIST\n",
        "mnist_dataset = MNIST(root='data', download=True)"
      ]
    },
    {
      "cell_type": "markdown",
      "id": "db1b84ef-191b-46da-88cc-04f55ff63136",
      "metadata": {
        "id": "db1b84ef-191b-46da-88cc-04f55ff63136"
      },
      "source": [
        "Lets investigate the dataset. The dataset consists of tuples containing an image of a number and the number it displays. We refer to this number as the ground truth value or label."
      ]
    },
    {
      "cell_type": "markdown",
      "id": "3551ff54-275b-444d-825a-614014add175",
      "metadata": {
        "id": "3551ff54-275b-444d-825a-614014add175"
      },
      "source": [
        "**Task 1 (1pts):** Investigate the dataset: First print the size of the dataset. Afterwards get the first element of the dataset and investigate what is contains. Plot the image as well as the corresponding ground truth."
      ]
    },
    {
      "cell_type": "code",
      "execution_count": 2,
      "id": "ce1f6bd5-92cf-4b34-82e9-1d97e4b573c7",
      "metadata": {
        "colab": {
          "base_uri": "https://localhost:8080/"
        },
        "id": "ce1f6bd5-92cf-4b34-82e9-1d97e4b573c7",
        "outputId": "b8506883-8748-4326-9f90-aef999455375"
      },
      "outputs": [
        {
          "output_type": "stream",
          "name": "stdout",
          "text": [
            "Size of dataset: 60000\n",
            "(<PIL.Image.Image image mode=L size=28x28 at 0x7BD3DA461910>, 5)\n",
            "Ground truth:  5\n"
          ]
        }
      ],
      "source": [
        "#Investigate the dataset here.\n",
        "print(\"Size of dataset:\", len(mnist_dataset))\n",
        "print(mnist_dataset[0])\n",
        "image, label = mnist_dataset[0]\n",
        "print(\"Ground truth: \", label)"
      ]
    },
    {
      "cell_type": "markdown",
      "id": "23c22a4d-3833-4275-912c-398640fb6d64",
      "metadata": {
        "id": "23c22a4d-3833-4275-912c-398640fb6d64"
      },
      "source": [
        "As we can see the dataset contains 60000 images of numbers between 0 and 9. We can display an image:"
      ]
    },
    {
      "cell_type": "code",
      "execution_count": 3,
      "id": "569e7e05-de2b-424c-8a90-47a067495a06",
      "metadata": {
        "colab": {
          "base_uri": "https://localhost:8080/",
          "height": 447
        },
        "id": "569e7e05-de2b-424c-8a90-47a067495a06",
        "outputId": "cf86937e-29b5-4b1c-fb7c-487189def49c",
        "scrolled": true
      },
      "outputs": [
        {
          "output_type": "execute_result",
          "data": {
            "text/plain": [
              "<matplotlib.image.AxesImage at 0x7bd3e300a5d0>"
            ]
          },
          "metadata": {},
          "execution_count": 3
        },
        {
          "output_type": "display_data",
          "data": {
            "text/plain": [
              "<Figure size 640x480 with 1 Axes>"
            ],
            "image/png": "[encoded data removed]"
          },
          "metadata": {}
        }
      ],
      "source": [
        "#plot the image here\n",
        "\n",
        "plt.imshow(image)"
      ]
    },
    {
      "cell_type": "markdown",
      "id": "a0310369-d0a7-4d4e-9377-c98eb8ae8660",
      "metadata": {
        "id": "a0310369-d0a7-4d4e-9377-c98eb8ae8660"
      },
      "source": [
        "As we can see torchvision has downloaded the dataset and saved it in the folder \"./data/\". In addition to that it constructed a pytorch dataset and we can get the size of the dataset or we can retrieve the image at a certain position just like in a numpy array. The __pytorch Dataset__ is useful to organize and iterate over our data, as well to separate the data preprocessing pipeline like smoothing data or removing outliers from the actual training pipeline. It consists of three class methods: the constructor of a class instance `__init__`, the `__getitem__` magic method, which allows you to index the dataset like an array with the []-operator and the `__len__`-method, which should return the length of the dataset. Here you can look up everything again: https://pytorch.org/tutorials/beginner/basics/data_tutorial.html"
      ]
    },
    {
      "cell_type": "markdown",
      "id": "c6805251-f032-4584-bd59-cc341cb89572",
      "metadata": {
        "id": "c6805251-f032-4584-bd59-cc341cb89572"
      },
      "source": [
        "**Task 2 (8pts):** Write your own Dataset class with the skeleton provided below. Inspect the data organization in \"./mnist_png/training\" first. The dataset should not store the entire MNIST dataset at once, but should \"lazy loading\" an image per indexing (`__getitem__`). The length of the dataset should be the number of images contained in the training dataset. Download the mnist_png zip-file and store it your directory. Use the corresponding path as `path_to_data`.\n"
      ]
    },
    {
      "cell_type": "markdown",
      "id": "e848d6e2-042f-4587-af2a-c4b39fa7f34f",
      "metadata": {
        "id": "e848d6e2-042f-4587-af2a-c4b39fa7f34f"
      },
      "source": [
        "**Task 3 (1pts):** We need a Dataset for training and we need a dataset for testing or validating. How can be easily create one Dataset instance which is useful for every setting? Hint: Take a look how the data is organized on your disk and how you could easily switch between the paths for \"training\" and \"testing\". You only have to alter the constructor."
      ]
    },
    {
      "cell_type": "code",
      "execution_count": 7,
      "id": "7e3e3254-0d65-4c31-a996-29d73f2ec14d",
      "metadata": {
        "colab": {
          "base_uri": "https://localhost:8080/",
          "height": 482
        },
        "id": "7e3e3254-0d65-4c31-a996-29d73f2ec14d",
        "outputId": "ecbbcb4a-39cc-44c1-9def-adca15fac591",
        "scrolled": true
      },
      "outputs": [
        {
          "output_type": "stream",
          "name": "stdout",
          "text": [
            "60000\n",
            "0 255\n"
          ]
        },
        {
          "output_type": "execute_result",
          "data": {
            "text/plain": [
              "<matplotlib.image.AxesImage at 0x7bd3d7bdd3d0>"
            ]
          },
          "metadata": {},
          "execution_count": 7
        },
        {
          "output_type": "display_data",
          "data": {
            "text/plain": [
              "<Figure size 640x480 with 1 Axes>"
            ],
            "image/png": "[encoded data removed]"
          },
          "metadata": {}
        }
      ],
      "source": [
        "import zipfile # working with zipfile of the mnist_png folder, since my laptop could not handle extracting the folder...\n",
        "import os\n",
        "from PIL import Image\n",
        "import io\n",
        "import numpy as np\n",
        "\n",
        "class MNISTDataset(Dataset):\n",
        "    def __init__(self, path_to_data, training_data=True):\n",
        "      # insert code here\n",
        "      self.images = []\n",
        "      self.labels = []\n",
        "      self.path_to_data = path_to_data\n",
        "\n",
        "      # Task 3: Based on the training data param we can switch via boolean if we want training or test data\n",
        "      with zipfile.ZipFile(path_to_data, \"r\") as zip_ref:\n",
        "          if training_data:\n",
        "              data_dir = \"mnist_png/training/\"\n",
        "          else:\n",
        "              data_dir = \"mnist_png/testing/\"\n",
        "\n",
        "      for label in range(10):\n",
        "            label_dir = os.path.join(data_dir, str(label))\n",
        "            for img_name in zip_ref.namelist():\n",
        "                if img_name.startswith(label_dir) and img_name.endswith('.png'):\n",
        "                    self.images.append(img_name)\n",
        "                    self.labels.append(label)\n",
        "\n",
        "        # e.g path to the data, different classes, number of images per class, or image IDs per class\n",
        "\n",
        "    def __getitem__(self, idx):\n",
        "        # insert code here\n",
        "        img, label = self.images[idx], self.labels[idx]\n",
        "        with zipfile.ZipFile(self.path_to_data, \"r\") as zip_ref:\n",
        "            img_data = zip_ref.read(img)\n",
        "            img = Image.open(io.BytesIO(img_data)).convert('L')\n",
        "            img = np.array(img)\n",
        "        # returning a single image per given index idx and its corresponding label\n",
        "        return img, label\n",
        "\n",
        "    def __len__(self):\n",
        "      # insert code here\n",
        "      # returning whole length of the dataset / number of images\n",
        "      return len(self.labels)\n",
        "\n",
        "\n",
        "mnist_dataset = MNISTDataset(\"./mnist_png.zip\")\n",
        "img_label_pair = mnist_dataset[0]\n",
        "img = img_label_pair[0]\n",
        "print(len(mnist_dataset))\n",
        "print(img.min(), img.max())\n",
        "plt.imshow(img)"
      ]
    },
    {
      "cell_type": "markdown",
      "id": "ad1ba071-873c-42d2-958e-3572cbfc429e",
      "metadata": {
        "id": "ad1ba071-873c-42d2-958e-3572cbfc429e"
      },
      "source": [
        "Now we created our own dataset. You recognized that we dont load every image at once, but only one image per call. For large datasets and especially in medical imaging where images can be very large, this is more efficient as it is faster and allocates less space."
      ]
    },
    {
      "cell_type": "markdown",
      "id": "42167a4b-5dac-46a2-a800-edbd3ccaa4c5",
      "metadata": {
        "id": "42167a4b-5dac-46a2-a800-edbd3ccaa4c5"
      },
      "source": [
        "Lets get to the definition of the neural network. There are several options how to create a neural network in pytorch.\n",
        "You can create your model as own class inheriting from a __torch.nn.Module__ or you use the class __torch.nn.Sequential__ instead.\n"
      ]
    },
    {
      "cell_type": "markdown",
      "id": "8e54ac60-c2ae-4a7f-8891-309bd2ac5503",
      "metadata": {
        "id": "8e54ac60-c2ae-4a7f-8891-309bd2ac5503"
      },
      "source": [
        "**Question 1 (2pts):** How many input neurons does your model need to have?"
      ]
    },
    {
      "cell_type": "code",
      "execution_count": 8,
      "id": "cJ7NWLVMjxrt",
      "metadata": {
        "colab": {
          "base_uri": "https://localhost:8080/"
        },
        "id": "cJ7NWLVMjxrt",
        "outputId": "76a17764-4f57-45d5-b4c8-fe858cbdc2eb"
      },
      "outputs": [
        {
          "output_type": "execute_result",
          "data": {
            "text/plain": [
              "(28, 28)"
            ]
          },
          "metadata": {},
          "execution_count": 8
        }
      ],
      "source": [
        "img_label_pair[0].shape\n",
        "# Since our image is of 28x28 pixels, we need 784 input neurons"
      ]
    },
    {
      "cell_type": "markdown",
      "id": "60c73c80-0583-4ef2-990f-bbd3fdc796c6",
      "metadata": {
        "id": "60c73c80-0583-4ef2-990f-bbd3fdc796c6"
      },
      "source": [
        "**Task 5 (5pts):** Write your own neural network with the skeleton provided. The network should include one hidden layer, the activation function should be the __Sigmoid__ function. The network should look like this: Layer1(input_size, x) -> activation(x) -> Layer2(x,y) -> activation(y) -> Linear3(y,output_size)"
      ]
    },
    {
      "cell_type": "code",
      "execution_count": 9,
      "id": "f350658a-0868-40d2-b1ef-a269f1770d4c",
      "metadata": {
        "id": "f350658a-0868-40d2-b1ef-a269f1770d4c"
      },
      "outputs": [],
      "source": [
        "class MNISTModel(torch.nn.Module):\n",
        "    def __init__(self, input_size, number_of_classes):\n",
        "        # insert code here\n",
        "        super(MNISTModel, self).__init__()\n",
        "        self.layer1 = nn.Linear(input_size, 150)\n",
        "        self.layer2 = nn.Linear(150, 100)\n",
        "        self.layer3 = nn.Linear(100, number_of_classes)\n",
        "        self.activation = nn.Sigmoid()\n",
        "\n",
        "\n",
        "    def forward(self, x):\n",
        "        # insert your code here\n",
        "        x = self.layer1(x)\n",
        "        x = self.activation(x)\n",
        "        x = self.layer2(x)\n",
        "        x = self.activation(x)\n",
        "        x = self.layer3(x)\n",
        "        return x\n"
      ]
    },
    {
      "cell_type": "code",
      "execution_count": 10,
      "id": "8851b6ec-9b27-4fdd-8148-c77ae93baed2",
      "metadata": {
        "id": "8851b6ec-9b27-4fdd-8148-c77ae93baed2"
      },
      "outputs": [],
      "source": [
        "def initialize_model(m):\n",
        "    if isinstance(m, torch.nn.Linear):\n",
        "        torch.nn.init.xavier_uniform_(m.weight)\n",
        "        if m.bias is not None:\n",
        "            torch.nn.init.zeros_(m.bias)"
      ]
    },
    {
      "cell_type": "markdown",
      "id": "0be2489d-488e-497e-81c6-4f6e35ee6a41",
      "metadata": {
        "id": "0be2489d-488e-497e-81c6-4f6e35ee6a41"
      },
      "source": [
        "We have to initialize our neural network. It is not a good idea to just randomly initialize the weights of our network or to set them all to zero. Lets look at the ReLU-activation function $relu(x) = max(0, x)$. If we would set all weights to zero, our activation function would always return 0 as our input is 0 beforehand. Our network would not learn at all."
      ]
    },
    {
      "cell_type": "markdown",
      "id": "bf49f0f3-af29-49fe-9f66-4d1b540afc8b",
      "metadata": {
        "id": "bf49f0f3-af29-49fe-9f66-4d1b540afc8b"
      },
      "source": [
        "Now we configure the hyperparameters as well as the loss function, the optimizer and the model itself. Hyperparameters control the learning process of the model. Learning rate, number of epochs to train and the batch size are typical hyperparameters which are set before the the training process.\n",
        "The __Pytorch__ __DataLoader__ is very useful to embedd our created dataset into the training pipeline. The __DataLoader__ controls the batchsize used in every epoch as well as the shuffeling the data."
      ]
    },
    {
      "cell_type": "code",
      "execution_count": 11,
      "id": "3360f85c-d677-463c-8a14-b9c54532f528",
      "metadata": {
        "id": "3360f85c-d677-463c-8a14-b9c54532f528"
      },
      "outputs": [],
      "source": [
        "batch_size=64\n",
        "lr = 0.0001\n",
        "epochs=10\n",
        "model = MNISTModel(28*28, 10)\n",
        "model.apply(initialize_model)\n",
        "train_dataloader = DataLoader(mnist_dataset, shuffle=True, batch_size=batch_size)\n",
        "\n",
        "\n",
        "criterion = torch.nn.CrossEntropyLoss(reduction=\"mean\")\n",
        "optimizer = torch.optim.Adam(model.parameters(), lr=lr)"
      ]
    },
    {
      "cell_type": "markdown",
      "id": "5eaf28da-1258-4b37-bbac-5f7749c6d754",
      "metadata": {
        "id": "5eaf28da-1258-4b37-bbac-5f7749c6d754"
      },
      "source": [
        "We are using the cross entropy loss as we have 10 different classes and it should calculate the mean loss over each batch fed to the cross entropy loss."
      ]
    },
    {
      "cell_type": "markdown",
      "id": "bf235eb7-0b19-4580-911b-031bfd81c716",
      "metadata": {
        "id": "bf235eb7-0b19-4580-911b-031bfd81c716"
      },
      "source": [
        "**Question 2 (1pts):** As we can see in the code, our DataLoader which always returns batch_size number of images in each training step shuffles the data. Why is shuffeling the data necessary before training?"
      ]
    },
    {
      "cell_type": "code",
      "execution_count": null,
      "id": "kJpuU-UUpOop",
      "metadata": {
        "id": "kJpuU-UUpOop"
      },
      "outputs": [],
      "source": [
        "# Else our model is going to memorize the training data, as we use the same order each time\n",
        "# Hence, we would risk introducing a bias to our model which leads us to an overfit model that does not generalize well"
      ]
    },
    {
      "cell_type": "markdown",
      "id": "917a8e17-35eb-4a1a-8219-4959aff6ad43",
      "metadata": {
        "id": "917a8e17-35eb-4a1a-8219-4959aff6ad43"
      },
      "source": [
        "In order generalize better to unseen data it is common to transform the pictures before feeding them into the network. Common transformations are normalizing, horizontal and vertical flipping, resizing or color distortions."
      ]
    },
    {
      "cell_type": "code",
      "execution_count": 12,
      "id": "c0fc0403-4fcf-4107-b367-cc1c98ac916f",
      "metadata": {
        "id": "c0fc0403-4fcf-4107-b367-cc1c98ac916f"
      },
      "outputs": [],
      "source": [
        "from torchvision.transforms import v2\n",
        "trnsforms = v2.Compose([\n",
        "    v2.ToDtype(torch.float32, scale=False),\n",
        "    v2.Normalize(mean=(0.5,),std=(0.5,))\n",
        "])"
      ]
    },
    {
      "cell_type": "markdown",
      "id": "209899d6-9dcb-406f-af25-885f737b651c",
      "metadata": {
        "id": "209899d6-9dcb-406f-af25-885f737b651c"
      },
      "source": [
        "**Task 5 (8pts):** Now write the training loop in the skeleton provided. Iterate over the epochs and the dataloader. Additionally you have to reshape the images as they are of size (28,28) and your network only accepts shapes of (1,x) with x being the number of input neurons. Keep also the batch_size in mind. After feeding the batch to the model calculate the loss and backpropagate through the network. Pytorch accumulates the gradients after each gradient calcuation, which we do not want to have. Set the gradients to zero with __zero_grad__ after the optimizer takes a step in the direction of the negative gradient.\n",
        "At the end of each epoch, log the average loss."
      ]
    },
    {
      "cell_type": "code",
      "execution_count": 13,
      "id": "ec389607-2a55-48ef-b983-acb90d7fb678",
      "metadata": {
        "colab": {
          "base_uri": "https://localhost:8080/",
          "height": 374
        },
        "id": "ec389607-2a55-48ef-b983-acb90d7fb678",
        "outputId": "2137c79a-2370-46b8-acf1-022a11235507"
      },
      "outputs": [
        {
          "output_type": "stream",
          "name": "stderr",
          "text": [
            "0it [00:09, ?it/s]\n"
          ]
        },
        {
          "output_type": "error",
          "ename": "KeyboardInterrupt",
          "evalue": "",
          "traceback": [
            "\u001b[0;31m---------------------------------------------------------------------------\u001b[0m",
            "\u001b[0;31mKeyboardInterrupt\u001b[0m                         Traceback (most recent call last)",
            "\u001b[0;32m<ipython-input-13-638a1210d7da>\u001b[0m in \u001b[0;36m<cell line: 0>\u001b[0;34m()\u001b[0m\n\u001b[1;32m      3\u001b[0m     \u001b[0;31m# insert code here\u001b[0m\u001b[0;34m\u001b[0m\u001b[0;34m\u001b[0m\u001b[0m\n\u001b[1;32m      4\u001b[0m     \u001b[0mtotal_loss\u001b[0m \u001b[0;34m=\u001b[0m \u001b[0;36m0\u001b[0m\u001b[0;34m\u001b[0m\u001b[0;34m\u001b[0m\u001b[0m\n\u001b[0;32m----> 5\u001b[0;31m     \u001b[0;32mfor\u001b[0m \u001b[0mi\u001b[0m\u001b[0;34m,\u001b[0m \u001b[0;34m(\u001b[0m\u001b[0mimg\u001b[0m\u001b[0;34m,\u001b[0m \u001b[0mlabel\u001b[0m\u001b[0;34m)\u001b[0m \u001b[0;32min\u001b[0m \u001b[0mtqdm\u001b[0m\u001b[0;34m(\u001b[0m\u001b[0menumerate\u001b[0m\u001b[0;34m(\u001b[0m\u001b[0mtrain_dataloader\u001b[0m\u001b[0;34m)\u001b[0m\u001b[0;34m)\u001b[0m\u001b[0;34m:\u001b[0m\u001b[0;34m\u001b[0m\u001b[0;34m\u001b[0m\u001b[0m\n\u001b[0m\u001b[1;32m      6\u001b[0m         \u001b[0;31m# insert code here\u001b[0m\u001b[0;34m\u001b[0m\u001b[0;34m\u001b[0m\u001b[0m\n\u001b[1;32m      7\u001b[0m         \u001b[0;31m# feed the img to the network and compute the loss\u001b[0m\u001b[0;34m\u001b[0m\u001b[0;34m\u001b[0m\u001b[0m\n",
            "\u001b[0;32m/usr/local/lib/python3.11/dist-packages/tqdm/std.py\u001b[0m in \u001b[0;36m__iter__\u001b[0;34m(self)\u001b[0m\n\u001b[1;32m   1179\u001b[0m \u001b[0;34m\u001b[0m\u001b[0m\n\u001b[1;32m   1180\u001b[0m         \u001b[0;32mtry\u001b[0m\u001b[0;34m:\u001b[0m\u001b[0;34m\u001b[0m\u001b[0;34m\u001b[0m\u001b[0m\n\u001b[0;32m-> 1181\u001b[0;31m             \u001b[0;32mfor\u001b[0m \u001b[0mobj\u001b[0m \u001b[0;32min\u001b[0m \u001b[0miterable\u001b[0m\u001b[0;34m:\u001b[0m\u001b[0;34m\u001b[0m\u001b[0;34m\u001b[0m\u001b[0m\n\u001b[0m\u001b[1;32m   1182\u001b[0m                 \u001b[0;32myield\u001b[0m \u001b[0mobj\u001b[0m\u001b[0;34m\u001b[0m\u001b[0;34m\u001b[0m\u001b[0m\n\u001b[1;32m   1183\u001b[0m                 \u001b[0;31m# Update and possibly print the progressbar.\u001b[0m\u001b[0;34m\u001b[0m\u001b[0;34m\u001b[0m\u001b[0m\n",
            "\u001b[0;32m/usr/local/lib/python3.11/dist-packages/torch/utils/data/dataloader.py\u001b[0m in \u001b[0;36m__next__\u001b[0;34m(self)\u001b[0m\n\u001b[1;32m    706\u001b[0m                 \u001b[0;31m# TODO(https://github.com/pytorch/pytorch/issues/76750)\u001b[0m\u001b[0;34m\u001b[0m\u001b[0;34m\u001b[0m\u001b[0m\n\u001b[1;32m    707\u001b[0m                 \u001b[0mself\u001b[0m\u001b[0;34m.\u001b[0m\u001b[0m_reset\u001b[0m\u001b[0;34m(\u001b[0m\u001b[0;34m)\u001b[0m  \u001b[0;31m# type: ignore[call-arg]\u001b[0m\u001b[0;34m\u001b[0m\u001b[0;34m\u001b[0m\u001b[0m\n\u001b[0;32m--> 708\u001b[0;31m             \u001b[0mdata\u001b[0m \u001b[0;34m=\u001b[0m \u001b[0mself\u001b[0m\u001b[0;34m.\u001b[0m\u001b[0m_next_data\u001b[0m\u001b[0;34m(\u001b[0m\u001b[0;34m)\u001b[0m\u001b[0;34m\u001b[0m\u001b[0;34m\u001b[0m\u001b[0m\n\u001b[0m\u001b[1;32m    709\u001b[0m             \u001b[0mself\u001b[0m\u001b[0;34m.\u001b[0m\u001b[0m_num_yielded\u001b[0m \u001b[0;34m+=\u001b[0m \u001b[0;36m1\u001b[0m\u001b[0;34m\u001b[0m\u001b[0;34m\u001b[0m\u001b[0m\n\u001b[1;32m    710\u001b[0m             if (\n",
            "\u001b[0;32m/usr/local/lib/python3.11/dist-packages/torch/utils/data/dataloader.py\u001b[0m in \u001b[0;36m_next_data\u001b[0;34m(self)\u001b[0m\n\u001b[1;32m    762\u001b[0m     \u001b[0;32mdef\u001b[0m \u001b[0m_next_data\u001b[0m\u001b[0;34m(\u001b[0m\u001b[0mself\u001b[0m\u001b[0;34m)\u001b[0m\u001b[0;34m:\u001b[0m\u001b[0;34m\u001b[0m\u001b[0;34m\u001b[0m\u001b[0m\n\u001b[1;32m    763\u001b[0m         \u001b[0mindex\u001b[0m \u001b[0;34m=\u001b[0m \u001b[0mself\u001b[0m\u001b[0;34m.\u001b[0m\u001b[0m_next_index\u001b[0m\u001b[0;34m(\u001b[0m\u001b[0;34m)\u001b[0m  \u001b[0;31m# may raise StopIteration\u001b[0m\u001b[0;34m\u001b[0m\u001b[0;34m\u001b[0m\u001b[0m\n\u001b[0;32m--> 764\u001b[0;31m         \u001b[0mdata\u001b[0m \u001b[0;34m=\u001b[0m \u001b[0mself\u001b[0m\u001b[0;34m.\u001b[0m\u001b[0m_dataset_fetcher\u001b[0m\u001b[0;34m.\u001b[0m\u001b[0mfetch\u001b[0m\u001b[0;34m(\u001b[0m\u001b[0mindex\u001b[0m\u001b[0;34m)\u001b[0m  \u001b[0;31m# may raise StopIteration\u001b[0m\u001b[0;34m\u001b[0m\u001b[0;34m\u001b[0m\u001b[0m\n\u001b[0m\u001b[1;32m    765\u001b[0m         \u001b[0;32mif\u001b[0m \u001b[0mself\u001b[0m\u001b[0;34m.\u001b[0m\u001b[0m_pin_memory\u001b[0m\u001b[0;34m:\u001b[0m\u001b[0;34m\u001b[0m\u001b[0;34m\u001b[0m\u001b[0m\n\u001b[1;32m    766\u001b[0m             \u001b[0mdata\u001b[0m \u001b[0;34m=\u001b[0m \u001b[0m_utils\u001b[0m\u001b[0;34m.\u001b[0m\u001b[0mpin_memory\u001b[0m\u001b[0;34m.\u001b[0m\u001b[0mpin_memory\u001b[0m\u001b[0;34m(\u001b[0m\u001b[0mdata\u001b[0m\u001b[0;34m,\u001b[0m \u001b[0mself\u001b[0m\u001b[0;34m.\u001b[0m\u001b[0m_pin_memory_device\u001b[0m\u001b[0;34m)\u001b[0m\u001b[0;34m\u001b[0m\u001b[0;34m\u001b[0m\u001b[0m\n",
            "\u001b[0;32m/usr/local/lib/python3.11/dist-packages/torch/utils/data/_utils/fetch.py\u001b[0m in \u001b[0;36mfetch\u001b[0;34m(self, possibly_batched_index)\u001b[0m\n\u001b[1;32m     50\u001b[0m                 \u001b[0mdata\u001b[0m \u001b[0;34m=\u001b[0m \u001b[0mself\u001b[0m\u001b[0;34m.\u001b[0m\u001b[0mdataset\u001b[0m\u001b[0;34m.\u001b[0m\u001b[0m__getitems__\u001b[0m\u001b[0;34m(\u001b[0m\u001b[0mpossibly_batched_index\u001b[0m\u001b[0;34m)\u001b[0m\u001b[0;34m\u001b[0m\u001b[0;34m\u001b[0m\u001b[0m\n\u001b[1;32m     51\u001b[0m             \u001b[0;32melse\u001b[0m\u001b[0;34m:\u001b[0m\u001b[0;34m\u001b[0m\u001b[0;34m\u001b[0m\u001b[0m\n\u001b[0;32m---> 52\u001b[0;31m                 \u001b[0mdata\u001b[0m \u001b[0;34m=\u001b[0m \u001b[0;34m[\u001b[0m\u001b[0mself\u001b[0m\u001b[0;34m.\u001b[0m\u001b[0mdataset\u001b[0m\u001b[0;34m[\u001b[0m\u001b[0midx\u001b[0m\u001b[0;34m]\u001b[0m \u001b[0;32mfor\u001b[0m \u001b[0midx\u001b[0m \u001b[0;32min\u001b[0m \u001b[0mpossibly_batched_index\u001b[0m\u001b[0;34m]\u001b[0m\u001b[0;34m\u001b[0m\u001b[0;34m\u001b[0m\u001b[0m\n\u001b[0m\u001b[1;32m     53\u001b[0m         \u001b[0;32melse\u001b[0m\u001b[0;34m:\u001b[0m\u001b[0;34m\u001b[0m\u001b[0;34m\u001b[0m\u001b[0m\n\u001b[1;32m     54\u001b[0m             \u001b[0mdata\u001b[0m \u001b[0;34m=\u001b[0m \u001b[0mself\u001b[0m\u001b[0;34m.\u001b[0m\u001b[0mdataset\u001b[0m\u001b[0;34m[\u001b[0m\u001b[0mpossibly_batched_index\u001b[0m\u001b[0;34m]\u001b[0m\u001b[0;34m\u001b[0m\u001b[0;34m\u001b[0m\u001b[0m\n",
            "\u001b[0;32m/usr/local/lib/python3.11/dist-packages/torch/utils/data/_utils/fetch.py\u001b[0m in \u001b[0;36m<listcomp>\u001b[0;34m(.0)\u001b[0m\n\u001b[1;32m     50\u001b[0m                 \u001b[0mdata\u001b[0m \u001b[0;34m=\u001b[0m \u001b[0mself\u001b[0m\u001b[0;34m.\u001b[0m\u001b[0mdataset\u001b[0m\u001b[0;34m.\u001b[0m\u001b[0m__getitems__\u001b[0m\u001b[0;34m(\u001b[0m\u001b[0mpossibly_batched_index\u001b[0m\u001b[0;34m)\u001b[0m\u001b[0;34m\u001b[0m\u001b[0;34m\u001b[0m\u001b[0m\n\u001b[1;32m     51\u001b[0m             \u001b[0;32melse\u001b[0m\u001b[0;34m:\u001b[0m\u001b[0;34m\u001b[0m\u001b[0;34m\u001b[0m\u001b[0m\n\u001b[0;32m---> 52\u001b[0;31m                 \u001b[0mdata\u001b[0m \u001b[0;34m=\u001b[0m \u001b[0;34m[\u001b[0m\u001b[0mself\u001b[0m\u001b[0;34m.\u001b[0m\u001b[0mdataset\u001b[0m\u001b[0;34m[\u001b[0m\u001b[0midx\u001b[0m\u001b[0;34m]\u001b[0m \u001b[0;32mfor\u001b[0m \u001b[0midx\u001b[0m \u001b[0;32min\u001b[0m \u001b[0mpossibly_batched_index\u001b[0m\u001b[0;34m]\u001b[0m\u001b[0;34m\u001b[0m\u001b[0;34m\u001b[0m\u001b[0m\n\u001b[0m\u001b[1;32m     53\u001b[0m         \u001b[0;32melse\u001b[0m\u001b[0;34m:\u001b[0m\u001b[0;34m\u001b[0m\u001b[0;34m\u001b[0m\u001b[0m\n\u001b[1;32m     54\u001b[0m             \u001b[0mdata\u001b[0m \u001b[0;34m=\u001b[0m \u001b[0mself\u001b[0m\u001b[0;34m.\u001b[0m\u001b[0mdataset\u001b[0m\u001b[0;34m[\u001b[0m\u001b[0mpossibly_batched_index\u001b[0m\u001b[0;34m]\u001b[0m\u001b[0;34m\u001b[0m\u001b[0;34m\u001b[0m\u001b[0m\n",
            "\u001b[0;32m<ipython-input-7-b7a61a2c254b>\u001b[0m in \u001b[0;36m__getitem__\u001b[0;34m(self, idx)\u001b[0m\n\u001b[1;32m     31\u001b[0m         \u001b[0;31m# insert code here\u001b[0m\u001b[0;34m\u001b[0m\u001b[0;34m\u001b[0m\u001b[0m\n\u001b[1;32m     32\u001b[0m         \u001b[0mimg\u001b[0m\u001b[0;34m,\u001b[0m \u001b[0mlabel\u001b[0m \u001b[0;34m=\u001b[0m \u001b[0mself\u001b[0m\u001b[0;34m.\u001b[0m\u001b[0mimages\u001b[0m\u001b[0;34m[\u001b[0m\u001b[0midx\u001b[0m\u001b[0;34m]\u001b[0m\u001b[0;34m,\u001b[0m \u001b[0mself\u001b[0m\u001b[0;34m.\u001b[0m\u001b[0mlabels\u001b[0m\u001b[0;34m[\u001b[0m\u001b[0midx\u001b[0m\u001b[0;34m]\u001b[0m\u001b[0;34m\u001b[0m\u001b[0;34m\u001b[0m\u001b[0m\n\u001b[0;32m---> 33\u001b[0;31m         \u001b[0;32mwith\u001b[0m \u001b[0mzipfile\u001b[0m\u001b[0;34m.\u001b[0m\u001b[0mZipFile\u001b[0m\u001b[0;34m(\u001b[0m\u001b[0mself\u001b[0m\u001b[0;34m.\u001b[0m\u001b[0mpath_to_data\u001b[0m\u001b[0;34m,\u001b[0m \u001b[0;34m\"r\"\u001b[0m\u001b[0;34m)\u001b[0m \u001b[0;32mas\u001b[0m \u001b[0mzip_ref\u001b[0m\u001b[0;34m:\u001b[0m\u001b[0;34m\u001b[0m\u001b[0;34m\u001b[0m\u001b[0m\n\u001b[0m\u001b[1;32m     34\u001b[0m             \u001b[0mimg_data\u001b[0m \u001b[0;34m=\u001b[0m \u001b[0mzip_ref\u001b[0m\u001b[0;34m.\u001b[0m\u001b[0mread\u001b[0m\u001b[0;34m(\u001b[0m\u001b[0mimg\u001b[0m\u001b[0;34m)\u001b[0m\u001b[0;34m\u001b[0m\u001b[0;34m\u001b[0m\u001b[0m\n\u001b[1;32m     35\u001b[0m             \u001b[0mimg\u001b[0m \u001b[0;34m=\u001b[0m \u001b[0mImage\u001b[0m\u001b[0;34m.\u001b[0m\u001b[0mopen\u001b[0m\u001b[0;34m(\u001b[0m\u001b[0mio\u001b[0m\u001b[0;34m.\u001b[0m\u001b[0mBytesIO\u001b[0m\u001b[0;34m(\u001b[0m\u001b[0mimg_data\u001b[0m\u001b[0;34m)\u001b[0m\u001b[0;34m)\u001b[0m\u001b[0;34m.\u001b[0m\u001b[0mconvert\u001b[0m\u001b[0;34m(\u001b[0m\u001b[0;34m'L'\u001b[0m\u001b[0;34m)\u001b[0m\u001b[0;34m\u001b[0m\u001b[0;34m\u001b[0m\u001b[0m\n",
            "\u001b[0;32m/usr/lib/python3.11/zipfile.py\u001b[0m in \u001b[0;36m__init__\u001b[0;34m(self, file, mode, compression, allowZip64, compresslevel, strict_timestamps, metadata_encoding)\u001b[0m\n\u001b[1;32m   1311\u001b[0m         \u001b[0;32mtry\u001b[0m\u001b[0;34m:\u001b[0m\u001b[0;34m\u001b[0m\u001b[0;34m\u001b[0m\u001b[0m\n\u001b[1;32m   1312\u001b[0m             \u001b[0;32mif\u001b[0m \u001b[0mmode\u001b[0m \u001b[0;34m==\u001b[0m \u001b[0;34m'r'\u001b[0m\u001b[0;34m:\u001b[0m\u001b[0;34m\u001b[0m\u001b[0;34m\u001b[0m\u001b[0m\n\u001b[0;32m-> 1313\u001b[0;31m                 \u001b[0mself\u001b[0m\u001b[0;34m.\u001b[0m\u001b[0m_RealGetContents\u001b[0m\u001b[0;34m(\u001b[0m\u001b[0;34m)\u001b[0m\u001b[0;34m\u001b[0m\u001b[0;34m\u001b[0m\u001b[0m\n\u001b[0m\u001b[1;32m   1314\u001b[0m             \u001b[0;32melif\u001b[0m \u001b[0mmode\u001b[0m \u001b[0;32min\u001b[0m \u001b[0;34m(\u001b[0m\u001b[0;34m'w'\u001b[0m\u001b[0;34m,\u001b[0m \u001b[0;34m'x'\u001b[0m\u001b[0;34m)\u001b[0m\u001b[0;34m:\u001b[0m\u001b[0;34m\u001b[0m\u001b[0;34m\u001b[0m\u001b[0m\n\u001b[1;32m   1315\u001b[0m                 \u001b[0;31m# set the modified flag so central directory gets written\u001b[0m\u001b[0;34m\u001b[0m\u001b[0;34m\u001b[0m\u001b[0m\n",
            "\u001b[0;32m/usr/lib/python3.11/zipfile.py\u001b[0m in \u001b[0;36m_RealGetContents\u001b[0;34m(self)\u001b[0m\n\u001b[1;32m   1436\u001b[0m                             t>>11, (t>>5)&0x3F, (t&0x1F) * 2 )\n\u001b[1;32m   1437\u001b[0m \u001b[0;34m\u001b[0m\u001b[0m\n\u001b[0;32m-> 1438\u001b[0;31m             \u001b[0mx\u001b[0m\u001b[0;34m.\u001b[0m\u001b[0m_decodeExtra\u001b[0m\u001b[0;34m(\u001b[0m\u001b[0;34m)\u001b[0m\u001b[0;34m\u001b[0m\u001b[0;34m\u001b[0m\u001b[0m\n\u001b[0m\u001b[1;32m   1439\u001b[0m             \u001b[0mx\u001b[0m\u001b[0;34m.\u001b[0m\u001b[0mheader_offset\u001b[0m \u001b[0;34m=\u001b[0m \u001b[0mx\u001b[0m\u001b[0;34m.\u001b[0m\u001b[0mheader_offset\u001b[0m \u001b[0;34m+\u001b[0m \u001b[0mconcat\u001b[0m\u001b[0;34m\u001b[0m\u001b[0;34m\u001b[0m\u001b[0m\n\u001b[1;32m   1440\u001b[0m             \u001b[0mself\u001b[0m\u001b[0;34m.\u001b[0m\u001b[0mfilelist\u001b[0m\u001b[0;34m.\u001b[0m\u001b[0mappend\u001b[0m\u001b[0;34m(\u001b[0m\u001b[0mx\u001b[0m\u001b[0;34m)\u001b[0m\u001b[0;34m\u001b[0m\u001b[0;34m\u001b[0m\u001b[0m\n",
            "\u001b[0;32m/usr/lib/python3.11/zipfile.py\u001b[0m in \u001b[0;36m_decodeExtra\u001b[0;34m(self)\u001b[0m\n\u001b[1;32m    492\u001b[0m             \u001b[0;32mreturn\u001b[0m \u001b[0mself\u001b[0m\u001b[0;34m.\u001b[0m\u001b[0mfilename\u001b[0m\u001b[0;34m.\u001b[0m\u001b[0mencode\u001b[0m\u001b[0;34m(\u001b[0m\u001b[0;34m'utf-8'\u001b[0m\u001b[0;34m)\u001b[0m\u001b[0;34m,\u001b[0m \u001b[0mself\u001b[0m\u001b[0;34m.\u001b[0m\u001b[0mflag_bits\u001b[0m \u001b[0;34m|\u001b[0m \u001b[0m_MASK_UTF_FILENAME\u001b[0m\u001b[0;34m\u001b[0m\u001b[0;34m\u001b[0m\u001b[0m\n\u001b[1;32m    493\u001b[0m \u001b[0;34m\u001b[0m\u001b[0m\n\u001b[0;32m--> 494\u001b[0;31m     \u001b[0;32mdef\u001b[0m \u001b[0m_decodeExtra\u001b[0m\u001b[0;34m(\u001b[0m\u001b[0mself\u001b[0m\u001b[0;34m)\u001b[0m\u001b[0;34m:\u001b[0m\u001b[0;34m\u001b[0m\u001b[0;34m\u001b[0m\u001b[0m\n\u001b[0m\u001b[1;32m    495\u001b[0m         \u001b[0;31m# Try to decode the extra field.\u001b[0m\u001b[0;34m\u001b[0m\u001b[0;34m\u001b[0m\u001b[0m\n\u001b[1;32m    496\u001b[0m         \u001b[0mextra\u001b[0m \u001b[0;34m=\u001b[0m \u001b[0mself\u001b[0m\u001b[0;34m.\u001b[0m\u001b[0mextra\u001b[0m\u001b[0;34m\u001b[0m\u001b[0;34m\u001b[0m\u001b[0m\n",
            "\u001b[0;31mKeyboardInterrupt\u001b[0m: "
          ]
        }
      ],
      "source": [
        "model.train()\n",
        "for epoch in range(epochs):\n",
        "    # insert code here\n",
        "    total_loss = 0\n",
        "    for i, (img, label) in tqdm(enumerate(train_dataloader)):\n",
        "        # insert code here\n",
        "        # feed the img to the network and compute the loss\n",
        "        # afterwards backprobagate the gradient trough the network\n",
        "        img = trnsforms(img)\n",
        "        img = img.view(img.size(0), -1)\n",
        "        optimizer.zero_grad()\n",
        "        output = model(img)\n",
        "        loss = criterion(output, label)\n",
        "        loss.backward()\n",
        "        optimizer.step()\n",
        "\n",
        "        total_loss += loss.item()\n",
        "\n",
        "    print(f\"Loss after epoch {epoch}: {total_loss / len(train_dataloader)}\")\n",
        "\n",
        "\n"
      ]
    },
    {
      "cell_type": "markdown",
      "id": "ed2faf67-f10f-431c-a130-4dddb5fae25c",
      "metadata": {
        "id": "ed2faf67-f10f-431c-a130-4dddb5fae25c"
      },
      "source": [
        "**Task 6 (7pts):** Now that we have trained our model, let us see how it performs on an unseen test dataset.\n",
        "Set the model in an evaluation mode, such that the layers work properly in your inference step. Dropout or Batchnormalization are turned off if set to __eval__ mode. Initialize the testing dataset and the dataloader and tterate over the Dataloader like in your training step and collect every prediction of the model with its corresponding ground truth. The predictions can be calculated using the softmax function which converts the output of your model into a probability distribution over the 10 labels.  \n",
        "$$softmax(x_i) = \\frac{\\exp(x_i)}{\\sum_{j}\\exp(x_j)}$$ with i being the i-th class. The class for which the model is most certain is the prediction of the model."
      ]
    },
    {
      "cell_type": "markdown",
      "id": "3de853fd-284d-4432-8163-83e1aaeb3ef6",
      "metadata": {
        "id": "3de853fd-284d-4432-8163-83e1aaeb3ef6"
      },
      "source": [
        "**Task 7 (2pts):** In the end calculate the confusion matrix and display it along with the accuracy of the model."
      ]
    },
    {
      "cell_type": "code",
      "execution_count": null,
      "id": "c46681a1-7e34-4574-9caa-55b0aea990c7",
      "metadata": {
        "id": "c46681a1-7e34-4574-9caa-55b0aea990c7",
        "outputId": "a1747a38-31e6-48e9-a603-bb9eef2e1d0a"
      },
      "outputs": [
        {
          "name": "stderr",
          "output_type": "stream",
          "text": [
            "1250it [00:01, 655.24it/s]\n"
          ]
        },
        {
          "name": "stdout",
          "output_type": "stream",
          "text": [
            "Accuracy: 0.9381\n"
          ]
        },
        {
          "data": {
            "image/png": "[encoded data removed]",
            "text/plain": [
              "<Figure size 640x480 with 2 Axes>"
            ]
          },
          "metadata": {},
          "output_type": "display_data"
        }
      ],
      "source": [
        "def test():\n",
        "    # insert code here\n",
        "    softmax = torch.nn.Softmax(dim=1)\n",
        "    model.eval()\n",
        "    test_dataset = MNISTDataset(\"path_to_mnist_png\", mode=\"testing\")\n",
        "    batch_size = 8\n",
        "    test_dataloader = DataLoader(test_dataset, batch_size=batch_size, shuffle=False)\n",
        "    acc = 0\n",
        "    gt = np.zeros(len(test_dataset)) #store all labels here\n",
        "    preds = np.zeros(len(test_dataset)) #store all predictions here\n",
        "    for i, (img, label) in tqdm(enumerate(test_dataloader)):\n",
        "        with torch.no_grad():\n",
        "            # insert code here\n",
        "\n",
        "    acc /= len(test_dataset)\n",
        "    print(\"Accuracy:\", acc)\n",
        "    # compute the confusion matrix here. Use confusion_matrix as well as ConfusionMatrixDisplay\n",
        "\n",
        "    plt.title(\"Confusion Matrix\")\n",
        "    plt.show()\n",
        "    return acc\n",
        "acc = test()"
      ]
    },
    {
      "cell_type": "markdown",
      "id": "e4972d47-4ddf-497c-bfbc-8da07bec8ef4",
      "metadata": {
        "id": "e4972d47-4ddf-497c-bfbc-8da07bec8ef4"
      },
      "source": [
        "**Task 8 (5pts):** Let us investigate the learning process when different learning rates are used. Modify the training such that the average loss of each epoch in saved. Afterwards plot the different losses with respect to the epochs for every learning rate. What do you see in the plot?"
      ]
    },
    {
      "cell_type": "code",
      "execution_count": null,
      "id": "9bb15bcb-6902-41bd-81a5-fe11efd6be8b",
      "metadata": {
        "id": "9bb15bcb-6902-41bd-81a5-fe11efd6be8b",
        "outputId": "40987fdf-2dd0-4c35-e39e-127910fc472f"
      },
      "outputs": [
        {
          "name": "stderr",
          "output_type": "stream",
          "text": [
            "100%|████████████████████████████████████████████████████████████████████████| 938/938 [00:14<00:00, 65.58it/s]\n"
          ]
        },
        {
          "name": "stdout",
          "output_type": "stream",
          "text": [
            "Loss after epoch 0: 2.4097571690707826\n"
          ]
        },
        {
          "name": "stderr",
          "output_type": "stream",
          "text": [
            "100%|████████████████████████████████████████████████████████████████████████| 938/938 [00:13<00:00, 67.95it/s]\n"
          ]
        },
        {
          "name": "stdout",
          "output_type": "stream",
          "text": [
            "Loss after epoch 1: 2.356880385230091\n"
          ]
        },
        {
          "name": "stderr",
          "output_type": "stream",
          "text": [
            "100%|████████████████████████████████████████████████████████████████████████| 938/938 [00:13<00:00, 67.34it/s]\n"
          ]
        },
        {
          "name": "stdout",
          "output_type": "stream",
          "text": [
            "Loss after epoch 2: 2.3163748585593216\n"
          ]
        },
        {
          "name": "stderr",
          "output_type": "stream",
          "text": [
            "100%|████████████████████████████████████████████████████████████████████████| 938/938 [00:13<00:00, 69.24it/s]\n"
          ]
        },
        {
          "name": "stdout",
          "output_type": "stream",
          "text": [
            "Loss after epoch 3: 2.2845850999929755\n"
          ]
        },
        {
          "name": "stderr",
          "output_type": "stream",
          "text": [
            "100%|████████████████████████████████████████████████████████████████████████| 938/938 [00:13<00:00, 70.61it/s]\n"
          ]
        },
        {
          "name": "stdout",
          "output_type": "stream",
          "text": [
            "Loss after epoch 4: 2.2584269916070805\n"
          ]
        },
        {
          "name": "stderr",
          "output_type": "stream",
          "text": [
            "100%|████████████████████████████████████████████████████████████████████████| 938/938 [00:13<00:00, 68.53it/s]\n"
          ]
        },
        {
          "name": "stdout",
          "output_type": "stream",
          "text": [
            "Loss after epoch 5: 2.2355335302698585\n"
          ]
        },
        {
          "name": "stderr",
          "output_type": "stream",
          "text": [
            "100%|████████████████████████████████████████████████████████████████████████| 938/938 [00:12<00:00, 74.49it/s]\n"
          ]
        },
        {
          "name": "stdout",
          "output_type": "stream",
          "text": [
            "Loss after epoch 6: 2.2144143820317317\n"
          ]
        },
        {
          "name": "stderr",
          "output_type": "stream",
          "text": [
            "100%|████████████████████████████████████████████████████████████████████████| 938/938 [00:11<00:00, 84.21it/s]\n"
          ]
        },
        {
          "name": "stdout",
          "output_type": "stream",
          "text": [
            "Loss after epoch 7: 2.194136749706797\n"
          ]
        },
        {
          "name": "stderr",
          "output_type": "stream",
          "text": [
            "100%|████████████████████████████████████████████████████████████████████████| 938/938 [00:12<00:00, 74.58it/s]\n"
          ]
        },
        {
          "name": "stdout",
          "output_type": "stream",
          "text": [
            "Loss after epoch 8: 2.1741474292425713\n"
          ]
        },
        {
          "name": "stderr",
          "output_type": "stream",
          "text": [
            "100%|████████████████████████████████████████████████████████████████████████| 938/938 [00:13<00:00, 67.52it/s]\n"
          ]
        },
        {
          "name": "stdout",
          "output_type": "stream",
          "text": [
            "Loss after epoch 9: 2.1542731340505927\n"
          ]
        },
        {
          "name": "stderr",
          "output_type": "stream",
          "text": [
            "100%|████████████████████████████████████████████████████████████████████████| 938/938 [00:13<00:00, 68.01it/s]\n"
          ]
        },
        {
          "name": "stdout",
          "output_type": "stream",
          "text": [
            "Loss after epoch 0: 1.5273740207716855\n"
          ]
        },
        {
          "name": "stderr",
          "output_type": "stream",
          "text": [
            "100%|████████████████████████████████████████████████████████████████████████| 938/938 [00:13<00:00, 69.13it/s]\n"
          ]
        },
        {
          "name": "stdout",
          "output_type": "stream",
          "text": [
            "Loss after epoch 1: 0.7519356964874878\n"
          ]
        },
        {
          "name": "stderr",
          "output_type": "stream",
          "text": [
            "100%|███████████████████████████████████████████████████████████████████████| 938/938 [00:07<00:00, 127.10it/s]\n"
          ]
        },
        {
          "name": "stdout",
          "output_type": "stream",
          "text": [
            "Loss after epoch 2: 0.5026244100794863\n"
          ]
        },
        {
          "name": "stderr",
          "output_type": "stream",
          "text": [
            "100%|███████████████████████████████████████████████████████████████████████| 938/938 [00:07<00:00, 126.92it/s]\n"
          ]
        },
        {
          "name": "stdout",
          "output_type": "stream",
          "text": [
            "Loss after epoch 3: 0.3939506306863034\n"
          ]
        },
        {
          "name": "stderr",
          "output_type": "stream",
          "text": [
            "100%|███████████████████████████████████████████████████████████████████████| 938/938 [00:07<00:00, 126.94it/s]\n"
          ]
        },
        {
          "name": "stdout",
          "output_type": "stream",
          "text": [
            "Loss after epoch 4: 0.3347940558055316\n"
          ]
        },
        {
          "name": "stderr",
          "output_type": "stream",
          "text": [
            "100%|███████████████████████████████████████████████████████████████████████| 938/938 [00:07<00:00, 126.90it/s]\n"
          ]
        },
        {
          "name": "stdout",
          "output_type": "stream",
          "text": [
            "Loss after epoch 5: 0.296762030389009\n"
          ]
        },
        {
          "name": "stderr",
          "output_type": "stream",
          "text": [
            "100%|███████████████████████████████████████████████████████████████████████| 938/938 [00:07<00:00, 126.54it/s]\n"
          ]
        },
        {
          "name": "stdout",
          "output_type": "stream",
          "text": [
            "Loss after epoch 6: 0.269431716780355\n"
          ]
        },
        {
          "name": "stderr",
          "output_type": "stream",
          "text": [
            "100%|███████████████████████████████████████████████████████████████████████| 938/938 [00:07<00:00, 126.82it/s]\n"
          ]
        },
        {
          "name": "stdout",
          "output_type": "stream",
          "text": [
            "Loss after epoch 7: 0.2480138941868536\n"
          ]
        },
        {
          "name": "stderr",
          "output_type": "stream",
          "text": [
            "100%|███████████████████████████████████████████████████████████████████████| 938/938 [00:07<00:00, 126.65it/s]\n"
          ]
        },
        {
          "name": "stdout",
          "output_type": "stream",
          "text": [
            "Loss after epoch 8: 0.229897789188476\n"
          ]
        },
        {
          "name": "stderr",
          "output_type": "stream",
          "text": [
            "100%|███████████████████████████████████████████████████████████████████████| 938/938 [00:07<00:00, 126.57it/s]\n"
          ]
        },
        {
          "name": "stdout",
          "output_type": "stream",
          "text": [
            "Loss after epoch 9: 0.21434679398658688\n"
          ]
        },
        {
          "name": "stderr",
          "output_type": "stream",
          "text": [
            "100%|███████████████████████████████████████████████████████████████████████| 938/938 [00:07<00:00, 127.05it/s]\n"
          ]
        },
        {
          "name": "stdout",
          "output_type": "stream",
          "text": [
            "Loss after epoch 0: 3.4341747567597736\n"
          ]
        },
        {
          "name": "stderr",
          "output_type": "stream",
          "text": [
            "100%|███████████████████████████████████████████████████████████████████████| 938/938 [00:07<00:00, 124.49it/s]\n"
          ]
        },
        {
          "name": "stdout",
          "output_type": "stream",
          "text": [
            "Loss after epoch 1: 3.192950797487678\n"
          ]
        },
        {
          "name": "stderr",
          "output_type": "stream",
          "text": [
            "100%|███████████████████████████████████████████████████████████████████████| 938/938 [00:07<00:00, 124.56it/s]\n"
          ]
        },
        {
          "name": "stdout",
          "output_type": "stream",
          "text": [
            "Loss after epoch 2: 3.1555674426845397\n"
          ]
        },
        {
          "name": "stderr",
          "output_type": "stream",
          "text": [
            "100%|███████████████████████████████████████████████████████████████████████| 938/938 [00:07<00:00, 127.13it/s]\n"
          ]
        },
        {
          "name": "stdout",
          "output_type": "stream",
          "text": [
            "Loss after epoch 3: 3.2485593435352547\n"
          ]
        },
        {
          "name": "stderr",
          "output_type": "stream",
          "text": [
            "100%|███████████████████████████████████████████████████████████████████████| 938/938 [00:07<00:00, 127.69it/s]\n"
          ]
        },
        {
          "name": "stdout",
          "output_type": "stream",
          "text": [
            "Loss after epoch 4: 3.3009514455347935\n"
          ]
        },
        {
          "name": "stderr",
          "output_type": "stream",
          "text": [
            "100%|███████████████████████████████████████████████████████████████████████| 938/938 [00:07<00:00, 125.07it/s]\n"
          ]
        },
        {
          "name": "stdout",
          "output_type": "stream",
          "text": [
            "Loss after epoch 5: 3.1621717862737206\n"
          ]
        },
        {
          "name": "stderr",
          "output_type": "stream",
          "text": [
            "100%|███████████████████████████████████████████████████████████████████████| 938/938 [00:07<00:00, 124.66it/s]\n"
          ]
        },
        {
          "name": "stdout",
          "output_type": "stream",
          "text": [
            "Loss after epoch 6: 3.350392617396454\n"
          ]
        },
        {
          "name": "stderr",
          "output_type": "stream",
          "text": [
            "100%|███████████████████████████████████████████████████████████████████████| 938/938 [00:08<00:00, 110.02it/s]\n"
          ]
        },
        {
          "name": "stdout",
          "output_type": "stream",
          "text": [
            "Loss after epoch 7: 3.1669949377015203\n"
          ]
        },
        {
          "name": "stderr",
          "output_type": "stream",
          "text": [
            "100%|███████████████████████████████████████████████████████████████████████| 938/938 [00:07<00:00, 123.14it/s]\n"
          ]
        },
        {
          "name": "stdout",
          "output_type": "stream",
          "text": [
            "Loss after epoch 8: 3.1552722385443097\n"
          ]
        },
        {
          "name": "stderr",
          "output_type": "stream",
          "text": [
            "100%|███████████████████████████████████████████████████████████████████████| 938/938 [00:08<00:00, 110.37it/s]\n"
          ]
        },
        {
          "name": "stdout",
          "output_type": "stream",
          "text": [
            "Loss after epoch 9: 3.2238937301168056\n"
          ]
        },
        {
          "data": {
            "image/png": "[encoded data removed]",
            "text/plain": [
              "<Figure size 640x480 with 1 Axes>"
            ]
          },
          "metadata": {},
          "output_type": "display_data"
        }
      ],
      "source": [
        "def train(epochs, model, train_dataloader, optimizer, criterion):\n",
        "    # insert code here\n",
        "\n",
        "\n",
        "\n",
        "learning_rates = [0.000001, 0.0001, 0.5]\n",
        "epochs = np.arange(0,10)\n",
        "losses = {}\n",
        "for lr in learning_rates:\n",
        "    #insert code here to save the the losses calculated by train()\n",
        "    model = MNISTModel(28*28, 10)\n",
        "    model.apply(initialize_model)\n",
        "    optimizer = torch.optim.Adam(model.parameters(), lr=lr)\n",
        "    losses[lr] = #insert code here\n",
        "\n",
        "\n",
        "# plot the different losses with respect to the epochs for every learning rate with matplotlib.pylplot\n",
        "# insert code here\n"
      ]
    },
    {
      "cell_type": "markdown",
      "id": "dcd7eba4-8411-4fa8-8992-2d3fc770a927",
      "metadata": {
        "id": "dcd7eba4-8411-4fa8-8992-2d3fc770a927"
      },
      "source": [
        "**Task 9 (5pts):** Now plot the different losses with respect to the epochs for different optimizers used. What do you see and explain the differences of the three different optimizers."
      ]
    },
    {
      "cell_type": "code",
      "execution_count": null,
      "id": "3f2191a5-0fb6-4260-bf86-285673fbb3ce",
      "metadata": {
        "id": "3f2191a5-0fb6-4260-bf86-285673fbb3ce",
        "outputId": "8b88817d-5041-45bb-d060-905e7e238e06",
        "scrolled": true
      },
      "outputs": [
        {
          "name": "stderr",
          "output_type": "stream",
          "text": [
            "100%|███████████████████████████████████████████████████████████████████████| 938/938 [00:06<00:00, 136.63it/s]\n"
          ]
        },
        {
          "name": "stdout",
          "output_type": "stream",
          "text": [
            "Loss after epoch 0: 2.4779584148545255\n"
          ]
        },
        {
          "name": "stderr",
          "output_type": "stream",
          "text": [
            "100%|███████████████████████████████████████████████████████████████████████| 938/938 [00:06<00:00, 135.92it/s]\n"
          ]
        },
        {
          "name": "stdout",
          "output_type": "stream",
          "text": [
            "Loss after epoch 1: 2.4138559850294197\n"
          ]
        },
        {
          "name": "stderr",
          "output_type": "stream",
          "text": [
            "100%|███████████████████████████████████████████████████████████████████████| 938/938 [00:06<00:00, 135.76it/s]\n"
          ]
        },
        {
          "name": "stdout",
          "output_type": "stream",
          "text": [
            "Loss after epoch 2: 2.3728734366675175\n"
          ]
        },
        {
          "name": "stderr",
          "output_type": "stream",
          "text": [
            "100%|███████████████████████████████████████████████████████████████████████| 938/938 [00:06<00:00, 134.45it/s]\n"
          ]
        },
        {
          "name": "stdout",
          "output_type": "stream",
          "text": [
            "Loss after epoch 3: 2.3453094692372565\n"
          ]
        },
        {
          "name": "stderr",
          "output_type": "stream",
          "text": [
            "100%|███████████████████████████████████████████████████████████████████████| 938/938 [00:06<00:00, 134.98it/s]\n"
          ]
        },
        {
          "name": "stdout",
          "output_type": "stream",
          "text": [
            "Loss after epoch 4: 2.3261043400144272\n"
          ]
        },
        {
          "name": "stderr",
          "output_type": "stream",
          "text": [
            "100%|███████████████████████████████████████████████████████████████████████| 938/938 [00:06<00:00, 134.89it/s]\n"
          ]
        },
        {
          "name": "stdout",
          "output_type": "stream",
          "text": [
            "Loss after epoch 5: 2.3122137228308963\n"
          ]
        },
        {
          "name": "stderr",
          "output_type": "stream",
          "text": [
            "100%|███████████████████████████████████████████████████████████████████████| 938/938 [00:06<00:00, 134.78it/s]\n"
          ]
        },
        {
          "name": "stdout",
          "output_type": "stream",
          "text": [
            "Loss after epoch 6: 2.3019695706458996\n"
          ]
        },
        {
          "name": "stderr",
          "output_type": "stream",
          "text": [
            "100%|███████████████████████████████████████████████████████████████████████| 938/938 [00:06<00:00, 134.55it/s]\n"
          ]
        },
        {
          "name": "stdout",
          "output_type": "stream",
          "text": [
            "Loss after epoch 7: 2.2941130191278356\n"
          ]
        },
        {
          "name": "stderr",
          "output_type": "stream",
          "text": [
            "100%|███████████████████████████████████████████████████████████████████████| 938/938 [00:06<00:00, 134.39it/s]\n"
          ]
        },
        {
          "name": "stdout",
          "output_type": "stream",
          "text": [
            "Loss after epoch 8: 2.2879085278968567\n"
          ]
        },
        {
          "name": "stderr",
          "output_type": "stream",
          "text": [
            "100%|███████████████████████████████████████████████████████████████████████| 938/938 [00:07<00:00, 133.71it/s]\n"
          ]
        },
        {
          "name": "stdout",
          "output_type": "stream",
          "text": [
            "Loss after epoch 9: 2.2828126906840276\n"
          ]
        },
        {
          "name": "stderr",
          "output_type": "stream",
          "text": [
            "100%|███████████████████████████████████████████████████████████████████████| 938/938 [00:07<00:00, 132.73it/s]\n"
          ]
        },
        {
          "name": "stdout",
          "output_type": "stream",
          "text": [
            "Loss after epoch 0: 2.2140318681436306\n"
          ]
        },
        {
          "name": "stderr",
          "output_type": "stream",
          "text": [
            "100%|███████████████████████████████████████████████████████████████████████| 938/938 [00:07<00:00, 132.84it/s]\n"
          ]
        },
        {
          "name": "stdout",
          "output_type": "stream",
          "text": [
            "Loss after epoch 1: 1.7995583740378749\n"
          ]
        },
        {
          "name": "stderr",
          "output_type": "stream",
          "text": [
            "100%|███████████████████████████████████████████████████████████████████████| 938/938 [00:07<00:00, 132.51it/s]\n"
          ]
        },
        {
          "name": "stdout",
          "output_type": "stream",
          "text": [
            "Loss after epoch 2: 1.2842870924645649\n"
          ]
        },
        {
          "name": "stderr",
          "output_type": "stream",
          "text": [
            "100%|███████████████████████████████████████████████████████████████████████| 938/938 [00:07<00:00, 132.42it/s]\n"
          ]
        },
        {
          "name": "stdout",
          "output_type": "stream",
          "text": [
            "Loss after epoch 3: 0.9344607928414335\n"
          ]
        },
        {
          "name": "stderr",
          "output_type": "stream",
          "text": [
            "100%|███████████████████████████████████████████████████████████████████████| 938/938 [00:07<00:00, 132.52it/s]\n"
          ]
        },
        {
          "name": "stdout",
          "output_type": "stream",
          "text": [
            "Loss after epoch 4: 0.7364845207886401\n"
          ]
        },
        {
          "name": "stderr",
          "output_type": "stream",
          "text": [
            "100%|███████████████████████████████████████████████████████████████████████| 938/938 [00:07<00:00, 132.55it/s]\n"
          ]
        },
        {
          "name": "stdout",
          "output_type": "stream",
          "text": [
            "Loss after epoch 5: 0.61746729481449\n"
          ]
        },
        {
          "name": "stderr",
          "output_type": "stream",
          "text": [
            "100%|███████████████████████████████████████████████████████████████████████| 938/938 [00:07<00:00, 132.14it/s]\n"
          ]
        },
        {
          "name": "stdout",
          "output_type": "stream",
          "text": [
            "Loss after epoch 6: 0.5410318652005084\n"
          ]
        },
        {
          "name": "stderr",
          "output_type": "stream",
          "text": [
            "100%|███████████████████████████████████████████████████████████████████████| 938/938 [00:07<00:00, 132.29it/s]\n"
          ]
        },
        {
          "name": "stdout",
          "output_type": "stream",
          "text": [
            "Loss after epoch 7: 0.48876459321487686\n"
          ]
        },
        {
          "name": "stderr",
          "output_type": "stream",
          "text": [
            "100%|███████████████████████████████████████████████████████████████████████| 938/938 [00:07<00:00, 131.72it/s]\n"
          ]
        },
        {
          "name": "stdout",
          "output_type": "stream",
          "text": [
            "Loss after epoch 8: 0.4517736293232517\n"
          ]
        },
        {
          "name": "stderr",
          "output_type": "stream",
          "text": [
            "100%|███████████████████████████████████████████████████████████████████████| 938/938 [00:07<00:00, 130.96it/s]\n"
          ]
        },
        {
          "name": "stdout",
          "output_type": "stream",
          "text": [
            "Loss after epoch 9: 0.423916543168681\n"
          ]
        },
        {
          "name": "stderr",
          "output_type": "stream",
          "text": [
            "100%|███████████████████████████████████████████████████████████████████████| 938/938 [00:07<00:00, 128.50it/s]\n"
          ]
        },
        {
          "name": "stdout",
          "output_type": "stream",
          "text": [
            "Loss after epoch 0: 1.572842613974614\n"
          ]
        },
        {
          "name": "stderr",
          "output_type": "stream",
          "text": [
            "100%|███████████████████████████████████████████████████████████████████████| 938/938 [00:07<00:00, 127.20it/s]\n"
          ]
        },
        {
          "name": "stdout",
          "output_type": "stream",
          "text": [
            "Loss after epoch 1: 0.7536629834599586\n"
          ]
        },
        {
          "name": "stderr",
          "output_type": "stream",
          "text": [
            "100%|███████████████████████████████████████████████████████████████████████| 938/938 [00:07<00:00, 128.37it/s]\n"
          ]
        },
        {
          "name": "stdout",
          "output_type": "stream",
          "text": [
            "Loss after epoch 2: 0.49549363904606814\n"
          ]
        },
        {
          "name": "stderr",
          "output_type": "stream",
          "text": [
            "100%|███████████████████████████████████████████████████████████████████████| 938/938 [00:07<00:00, 127.11it/s]\n"
          ]
        },
        {
          "name": "stdout",
          "output_type": "stream",
          "text": [
            "Loss after epoch 3: 0.38768792652816914\n"
          ]
        },
        {
          "name": "stderr",
          "output_type": "stream",
          "text": [
            "100%|███████████████████████████████████████████████████████████████████████| 938/938 [00:07<00:00, 128.26it/s]\n"
          ]
        },
        {
          "name": "stdout",
          "output_type": "stream",
          "text": [
            "Loss after epoch 4: 0.3306285202948015\n"
          ]
        },
        {
          "name": "stderr",
          "output_type": "stream",
          "text": [
            "100%|███████████████████████████████████████████████████████████████████████| 938/938 [00:07<00:00, 127.04it/s]\n"
          ]
        },
        {
          "name": "stdout",
          "output_type": "stream",
          "text": [
            "Loss after epoch 5: 0.2945159691800949\n"
          ]
        },
        {
          "name": "stderr",
          "output_type": "stream",
          "text": [
            "100%|███████████████████████████████████████████████████████████████████████| 938/938 [00:07<00:00, 126.73it/s]\n"
          ]
        },
        {
          "name": "stdout",
          "output_type": "stream",
          "text": [
            "Loss after epoch 6: 0.268552039811479\n"
          ]
        },
        {
          "name": "stderr",
          "output_type": "stream",
          "text": [
            "100%|███████████████████████████████████████████████████████████████████████| 938/938 [00:07<00:00, 127.77it/s]\n"
          ]
        },
        {
          "name": "stdout",
          "output_type": "stream",
          "text": [
            "Loss after epoch 7: 0.24779619824594018\n"
          ]
        },
        {
          "name": "stderr",
          "output_type": "stream",
          "text": [
            "100%|███████████████████████████████████████████████████████████████████████| 938/938 [00:07<00:00, 127.86it/s]\n"
          ]
        },
        {
          "name": "stdout",
          "output_type": "stream",
          "text": [
            "Loss after epoch 8: 0.23050992760751673\n"
          ]
        },
        {
          "name": "stderr",
          "output_type": "stream",
          "text": [
            "100%|███████████████████████████████████████████████████████████████████████| 938/938 [00:07<00:00, 127.98it/s]"
          ]
        },
        {
          "name": "stdout",
          "output_type": "stream",
          "text": [
            "Loss after epoch 9: 0.21569524812641175\n"
          ]
        },
        {
          "name": "stderr",
          "output_type": "stream",
          "text": [
            "\n"
          ]
        },
        {
          "data": {
            "text/plain": [
              "[]"
            ]
          },
          "execution_count": 17,
          "metadata": {},
          "output_type": "execute_result"
        },
        {
          "data": {
            "image/png": "[encoded data removed]",
            "text/plain": [
              "<Figure size 640x480 with 1 Axes>"
            ]
          },
          "metadata": {},
          "output_type": "display_data"
        }
      ],
      "source": [
        "optim = [partial(torch.optim.SGD, momentum=0.0), partial(torch.optim.SGD, momentum=0.99, nesterov=True), torch.optim.Adam]\n",
        "epochs = np.arange(0,10)\n",
        "losses = {}\n",
        "for i,o in enumerate(optim):\n",
        "    model = MNISTModel(28*28, 10)\n",
        "    model.apply(initialize_model)\n",
        "    optimizer = #insert code here\n",
        "    losses[i] = #insert code here\n",
        "\n",
        "#plot the losses with respect to the different optimizers"
      ]
    },
    {
      "cell_type": "markdown",
      "id": "cef0759c-8ec3-4ec0-a010-75e95417b5e6",
      "metadata": {
        "id": "cef0759c-8ec3-4ec0-a010-75e95417b5e6"
      },
      "source": [
        "**Task 10 (5pts):** Why do we need a activation function like\n",
        "- __relu__\n",
        "- __tanh__\n",
        "- __sigmoid__\n",
        "  \n",
        "between two layers in a neural network?\n",
        "What happens if we do not use any of them? Therefore look at the computation inside the i-th layer and pass the activation $a_i$ to the next layer ${i+1}$:\n",
        "\n",
        "$$a_{i} = W_{i} \\cdot a_{i-1} + b_{i}$$"
      ]
    },
    {
      "cell_type": "markdown",
      "id": "b676aa80-85e0-44b6-9272-c6d444013d4c",
      "metadata": {
        "id": "b676aa80-85e0-44b6-9272-c6d444013d4c"
      },
      "source": [
        "# insert explanation here"
      ]
    },
    {
      "cell_type": "code",
      "execution_count": null,
      "id": "a963af16-26ff-4e77-bad8-9ffb913a36a8",
      "metadata": {
        "id": "a963af16-26ff-4e77-bad8-9ffb913a36a8"
      },
      "outputs": [],
      "source": []
    }
  ],
  "metadata": {
    "colab": {
      "provenance": [],
      "include_colab_link": true
    },
    "kernelspec": {
      "display_name": "Python 3",
      "language": "python",
      "name": "python3"
    },
    "language_info": {
      "codemirror_mode": {
        "name": "ipython",
        "version": 3
      },
      "file_extension": ".py",
      "mimetype": "text/x-python",
      "name": "python",
      "nbconvert_exporter": "python",
      "pygments_lexer": "ipython3",
      "version": "3.11.4"
    }
  },
  "nbformat": 4,
  "nbformat_minor": 5
}